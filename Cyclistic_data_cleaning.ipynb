{
  "nbformat": 4,
  "nbformat_minor": 0,
  "metadata": {
    "colab": {
      "name": "Cyclistic_data_cleaning.ipynb",
      "provenance": [],
      "collapsed_sections": [],
      "mount_file_id": "1L6YQYJm3B_95HjqeUi2LSpTUomGv3UWo",
      "authorship_tag": "ABX9TyME8cSF5WCHFcmC9XlfSV8m",
      "include_colab_link": true
    },
    "kernelspec": {
      "name": "python3",
      "display_name": "Python 3"
    },
    "language_info": {
      "name": "python"
    }
  },
  "cells": [
    {
      "cell_type": "markdown",
      "metadata": {
        "id": "view-in-github",
        "colab_type": "text"
      },
      "source": [
        "<a href=\"https://colab.research.google.com/github/bwmko249/Capstone-Project-Bike-sharing/blob/main/Cyclistic_data_cleaning.ipynb\" target=\"_parent\"><img src=\"https://colab.research.google.com/assets/colab-badge.svg\" alt=\"Open In Colab\"/></a>"
      ]
    },
    {
      "cell_type": "code",
      "source": [
        ""
      ],
      "metadata": {
        "id": "4qP2k_r7aZyT"
      },
      "execution_count": null,
      "outputs": []
    },
    {
      "cell_type": "markdown",
      "source": [
        "# GOOGLE DATA ANALYST CAPSTONE PROJECT \n",
        "### DATA CLEANING FOR CYCLISTIC BIKE SHARING DATA"
      ],
      "metadata": {
        "id": "BA9e-Eu_pHep"
      }
    },
    {
      "cell_type": "markdown",
      "source": [
        "## **BACKGROUND**\n",
        "Cyclistic is a fictional bike sharing program which features more than 5,800 bikes and 600 docking stations. It offers reclining bikes, hand tricycles, and cargo bikes, making it more inclusive to people with disabilities and riders who can't use a standard two-wheeled bike. It was founded in 2016 and has grown tremendously into a fleet of bicycles that are geotracked and locked into a network of 692 stations across Chicago. The bikes can be unlocked from one station and returned to any other station in the system anytime. \n",
        "\n",
        "\n",
        "Previously, Cyclistic's marketing strategy tried to build the general awareness and appeal to broad consumers. It has flexible pricing plans: single-ride passes, full-day passes, and annual memberships. Those who purchase single-ride or full-day passes are referred to as casual riders while those who purchase annual memberships are Cyclistic members. \n",
        "\n",
        "\n",
        "**My Role**: In this scenario I am a junior data analyst at Cyclistic and my team has been tasked with the aim of designing marketing strategies to convert casual riders into members.\n",
        "\n",
        "\n",
        "**The business task**: The company wants to improve their earnings reaching out to their “casual” riders, and for that they have to analyze in what aspects the “casual” and the annual customers differ, to be able to create a focused and successful marketing campaign to the “casual” customers converting them to members. This can br summarized by the question:\n",
        "\n",
        "What could motivate the “casual” users to change to an annual subscription based on their behavior?\n",
        "\n",
        "\n",
        "\n"
      ],
      "metadata": {
        "id": "kHLD7ck8p9B_"
      }
    },
    {
      "cell_type": "markdown",
      "source": [
        "###**PROCESS**:\n",
        "\n",
        "The data is first viewed in  Microsoft Excel then analysed using python where data wrangling is performed on the data as will be shown in this notebook.\n",
        "missing values, incorrect formats and new columns will be added as appropriate in order to be able to gain valuable insights from the data.\n",
        "The ultimate vizualisation will be done in Tableau and can be viewed here. https://public.tableau.com/views/GoogleCapstoneCyclisticCaseStudy_16559347808530/Dashboard?:language=en-US&:display_count=n&:origin=viz_share_link"
      ],
      "metadata": {
        "id": "r0F2zKx6r8re"
      }
    },
    {
      "cell_type": "code",
      "execution_count": null,
      "metadata": {
        "id": "9cD-Q_F2WOf5"
      },
      "outputs": [],
      "source": [
        "# importing the necesssary libraries\n",
        "\n",
        "import pandas as pd\n",
        "import numpy as np\n",
        "from datetime import datetime"
      ]
    },
    {
      "cell_type": "code",
      "source": [
        ""
      ],
      "metadata": {
        "id": "Ry6Lq2llrMMX"
      },
      "execution_count": null,
      "outputs": []
    },
    {
      "cell_type": "markdown",
      "source": [
        ""
      ],
      "metadata": {
        "id": "LvaOC98mpGZL"
      }
    },
    {
      "cell_type": "code",
      "source": [
        "# loading in the data from different sources into the notebook\n",
        "\n",
        "df1= pd.read_csv('/content/Divvy_Trips_2018_Q1.csv')\n",
        "df2= pd.read_csv('/content/Divvy_Trips_2018_Q2.csv')\n",
        "df3=pd.read_csv('/content/Divvy_Trips_2018_Q3.csv')\n"
      ],
      "metadata": {
        "id": "FkFQCHpUWtSV"
      },
      "execution_count": null,
      "outputs": []
    },
    {
      "cell_type": "code",
      "source": [
        "# checking the name of columns\n",
        "\n",
        "total_trips.columns"
      ],
      "metadata": {
        "colab": {
          "base_uri": "https://localhost:8080/"
        },
        "id": "VMC8yh7VfgUw",
        "outputId": "ecd8a138-f5e9-475e-d5b6-f2fde5cd1de2"
      },
      "execution_count": null,
      "outputs": [
        {
          "output_type": "execute_result",
          "data": {
            "text/plain": [
              "Index(['01 - Rental Details Rental ID', '01 - Rental Details Local Start Time',\n",
              "       '01 - Rental Details Local End Time', '01 - Rental Details Bike ID',\n",
              "       '01 - Rental Details Duration In Seconds Uncapped',\n",
              "       '03 - Rental Start Station ID', '03 - Rental Start Station Name',\n",
              "       '02 - Rental End Station ID', '02 - Rental End Station Name',\n",
              "       'User Type', 'Member Gender',\n",
              "       '05 - Member Details Member Birthday Year', 'trip_id', 'start_time',\n",
              "       'end_time', 'bikeid', 'tripduration', 'from_station_id',\n",
              "       'from_station_name', 'to_station_id', 'to_station_name', 'usertype',\n",
              "       'gender', 'birthyear'],\n",
              "      dtype='object')"
            ]
          },
          "metadata": {},
          "execution_count": 14
        }
      ]
    },
    {
      "cell_type": "code",
      "source": [
        "total_trips.info()"
      ],
      "metadata": {
        "colab": {
          "base_uri": "https://localhost:8080/"
        },
        "id": "vMQYkY8rfe-8",
        "outputId": "6a017546-2ec9-4e09-8624-60a893b16d82"
      },
      "execution_count": null,
      "outputs": [
        {
          "output_type": "stream",
          "name": "stdout",
          "text": [
            "<class 'pandas.core.frame.DataFrame'>\n",
            "RangeIndex: 2949290 entries, 0 to 2949289\n",
            "Data columns (total 24 columns):\n",
            " #   Column                                            Dtype  \n",
            "---  ------                                            -----  \n",
            " 0   01 - Rental Details Rental ID                     float64\n",
            " 1   01 - Rental Details Local Start Time              object \n",
            " 2   01 - Rental Details Local End Time                object \n",
            " 3   01 - Rental Details Bike ID                       float64\n",
            " 4   01 - Rental Details Duration In Seconds Uncapped  object \n",
            " 5   03 - Rental Start Station ID                      float64\n",
            " 6   03 - Rental Start Station Name                    object \n",
            " 7   02 - Rental End Station ID                        float64\n",
            " 8   02 - Rental End Station Name                      object \n",
            " 9   User Type                                         object \n",
            " 10  Member Gender                                     object \n",
            " 11  05 - Member Details Member Birthday Year          float64\n",
            " 12  trip_id                                           float64\n",
            " 13  start_time                                        object \n",
            " 14  end_time                                          object \n",
            " 15  bikeid                                            float64\n",
            " 16  tripduration                                      object \n",
            " 17  from_station_id                                   float64\n",
            " 18  from_station_name                                 object \n",
            " 19  to_station_id                                     float64\n",
            " 20  to_station_name                                   object \n",
            " 21  usertype                                          object \n",
            " 22  gender                                            object \n",
            " 23  birthyear                                         float64\n",
            "dtypes: float64(10), object(14)\n",
            "memory usage: 540.0+ MB\n"
          ]
        }
      ]
    },
    {
      "cell_type": "markdown",
      "source": [
        "\n",
        "Cleaning the data and preparing It for analysis by checking for nulls, dealing with wrong inputs, possible errors and adjusting the date."
      ],
      "metadata": {
        "id": "oh5Ffg6hca8J"
      }
    },
    {
      "cell_type": "markdown",
      "source": [
        "Renaming the colums of the 3 datasets that will be concaTenated as the 3 datasets have differnt column names"
      ],
      "metadata": {
        "id": "IJ7eUM6HhDQp"
      }
    },
    {
      "cell_type": "code",
      "source": [
        "df1.columns = ['Rental_ID','Start_time','End_time','Bike_ID','Duration(secs)','Start_station_ID','Start_station_name','End_station_ID','End_station_name','User_type','Gender','DOB']\n",
        "df2.columns = ['Rental_ID','Start_time','End_time','Bike_ID','Duration(secs)','Start_station_ID','Start_station_name','End_station_ID','End_station_name','User_type','Gender','DOB']\n",
        "df3.columns = ['Rental_ID','Start_time','End_time','Bike_ID','Duration(secs)','Start_station_ID','Start_station_name','End_station_ID','End_station_name','User_type','Gender','DOB']"
      ],
      "metadata": {
        "id": "bd-pjpRJgQ_e"
      },
      "execution_count": null,
      "outputs": []
    },
    {
      "cell_type": "code",
      "source": [
        "# Concatenting the 3 datasets iinto the total_trips dataframe\n",
        "\n",
        "total_trips=pd.concat([df1,df2,df3])\n",
        "total_trips.reset_index(drop=True,inplace=True)\n",
        "total_trips.head()"
      ],
      "metadata": {
        "colab": {
          "base_uri": "https://localhost:8080/",
          "height": 444
        },
        "id": "mBkOZU82gQz1",
        "outputId": "f0358268-1096-4c4c-9afe-5d0170dbbd94"
      },
      "execution_count": null,
      "outputs": [
        {
          "output_type": "execute_result",
          "data": {
            "text/plain": [
              "   Rental_ID           Start_time             End_time  Bike_ID  \\\n",
              "0   17536702  2018-01-01 00:12:00  2018-01-01 00:17:23     3304   \n",
              "1   17536703  2018-01-01 00:41:35  2018-01-01 00:47:52     5367   \n",
              "2   17536704  2018-01-01 00:44:46  2018-01-01 01:33:10     4599   \n",
              "3   17536705  2018-01-01 00:53:10  2018-01-01 01:05:37     2302   \n",
              "4   17536706  2018-01-01 00:53:37  2018-01-01 00:56:40     3696   \n",
              "\n",
              "  Duration(secs)  Start_station_ID           Start_station_name  \\\n",
              "0          323.0                69       Damen Ave & Pierce Ave   \n",
              "1          377.0               253  Winthrop Ave & Lawrence Ave   \n",
              "2        2,904.0                98   LaSalle St & Washington St   \n",
              "3          747.0               125         Rush St & Hubbard St   \n",
              "4          183.0               129    Blue Island Ave & 18th St   \n",
              "\n",
              "   End_station_ID                End_station_name   User_type Gender     DOB  \n",
              "0             159       Claremont Ave & Hirsch St  Subscriber   Male  1988.0  \n",
              "1             325  Clark St & Winnemac Ave (Temp)  Subscriber   Male  1984.0  \n",
              "2             509             Troy St & North Ave  Subscriber   Male  1989.0  \n",
              "3             364            Larrabee St & Oak St  Subscriber   Male  1983.0  \n",
              "4             205            Paulina St & 18th St  Subscriber   Male  1989.0  "
            ],
            "text/html": [
              "\n",
              "  <div id=\"df-66285ed1-b442-4907-8ab6-0199b5fcf75c\">\n",
              "    <div class=\"colab-df-container\">\n",
              "      <div>\n",
              "<style scoped>\n",
              "    .dataframe tbody tr th:only-of-type {\n",
              "        vertical-align: middle;\n",
              "    }\n",
              "\n",
              "    .dataframe tbody tr th {\n",
              "        vertical-align: top;\n",
              "    }\n",
              "\n",
              "    .dataframe thead th {\n",
              "        text-align: right;\n",
              "    }\n",
              "</style>\n",
              "<table border=\"1\" class=\"dataframe\">\n",
              "  <thead>\n",
              "    <tr style=\"text-align: right;\">\n",
              "      <th></th>\n",
              "      <th>Rental_ID</th>\n",
              "      <th>Start_time</th>\n",
              "      <th>End_time</th>\n",
              "      <th>Bike_ID</th>\n",
              "      <th>Duration(secs)</th>\n",
              "      <th>Start_station_ID</th>\n",
              "      <th>Start_station_name</th>\n",
              "      <th>End_station_ID</th>\n",
              "      <th>End_station_name</th>\n",
              "      <th>User_type</th>\n",
              "      <th>Gender</th>\n",
              "      <th>DOB</th>\n",
              "    </tr>\n",
              "  </thead>\n",
              "  <tbody>\n",
              "    <tr>\n",
              "      <th>0</th>\n",
              "      <td>17536702</td>\n",
              "      <td>2018-01-01 00:12:00</td>\n",
              "      <td>2018-01-01 00:17:23</td>\n",
              "      <td>3304</td>\n",
              "      <td>323.0</td>\n",
              "      <td>69</td>\n",
              "      <td>Damen Ave &amp; Pierce Ave</td>\n",
              "      <td>159</td>\n",
              "      <td>Claremont Ave &amp; Hirsch St</td>\n",
              "      <td>Subscriber</td>\n",
              "      <td>Male</td>\n",
              "      <td>1988.0</td>\n",
              "    </tr>\n",
              "    <tr>\n",
              "      <th>1</th>\n",
              "      <td>17536703</td>\n",
              "      <td>2018-01-01 00:41:35</td>\n",
              "      <td>2018-01-01 00:47:52</td>\n",
              "      <td>5367</td>\n",
              "      <td>377.0</td>\n",
              "      <td>253</td>\n",
              "      <td>Winthrop Ave &amp; Lawrence Ave</td>\n",
              "      <td>325</td>\n",
              "      <td>Clark St &amp; Winnemac Ave (Temp)</td>\n",
              "      <td>Subscriber</td>\n",
              "      <td>Male</td>\n",
              "      <td>1984.0</td>\n",
              "    </tr>\n",
              "    <tr>\n",
              "      <th>2</th>\n",
              "      <td>17536704</td>\n",
              "      <td>2018-01-01 00:44:46</td>\n",
              "      <td>2018-01-01 01:33:10</td>\n",
              "      <td>4599</td>\n",
              "      <td>2,904.0</td>\n",
              "      <td>98</td>\n",
              "      <td>LaSalle St &amp; Washington St</td>\n",
              "      <td>509</td>\n",
              "      <td>Troy St &amp; North Ave</td>\n",
              "      <td>Subscriber</td>\n",
              "      <td>Male</td>\n",
              "      <td>1989.0</td>\n",
              "    </tr>\n",
              "    <tr>\n",
              "      <th>3</th>\n",
              "      <td>17536705</td>\n",
              "      <td>2018-01-01 00:53:10</td>\n",
              "      <td>2018-01-01 01:05:37</td>\n",
              "      <td>2302</td>\n",
              "      <td>747.0</td>\n",
              "      <td>125</td>\n",
              "      <td>Rush St &amp; Hubbard St</td>\n",
              "      <td>364</td>\n",
              "      <td>Larrabee St &amp; Oak St</td>\n",
              "      <td>Subscriber</td>\n",
              "      <td>Male</td>\n",
              "      <td>1983.0</td>\n",
              "    </tr>\n",
              "    <tr>\n",
              "      <th>4</th>\n",
              "      <td>17536706</td>\n",
              "      <td>2018-01-01 00:53:37</td>\n",
              "      <td>2018-01-01 00:56:40</td>\n",
              "      <td>3696</td>\n",
              "      <td>183.0</td>\n",
              "      <td>129</td>\n",
              "      <td>Blue Island Ave &amp; 18th St</td>\n",
              "      <td>205</td>\n",
              "      <td>Paulina St &amp; 18th St</td>\n",
              "      <td>Subscriber</td>\n",
              "      <td>Male</td>\n",
              "      <td>1989.0</td>\n",
              "    </tr>\n",
              "  </tbody>\n",
              "</table>\n",
              "</div>\n",
              "      <button class=\"colab-df-convert\" onclick=\"convertToInteractive('df-66285ed1-b442-4907-8ab6-0199b5fcf75c')\"\n",
              "              title=\"Convert this dataframe to an interactive table.\"\n",
              "              style=\"display:none;\">\n",
              "        \n",
              "  <svg xmlns=\"http://www.w3.org/2000/svg\" height=\"24px\"viewBox=\"0 0 24 24\"\n",
              "       width=\"24px\">\n",
              "    <path d=\"M0 0h24v24H0V0z\" fill=\"none\"/>\n",
              "    <path d=\"M18.56 5.44l.94 2.06.94-2.06 2.06-.94-2.06-.94-.94-2.06-.94 2.06-2.06.94zm-11 1L8.5 8.5l.94-2.06 2.06-.94-2.06-.94L8.5 2.5l-.94 2.06-2.06.94zm10 10l.94 2.06.94-2.06 2.06-.94-2.06-.94-.94-2.06-.94 2.06-2.06.94z\"/><path d=\"M17.41 7.96l-1.37-1.37c-.4-.4-.92-.59-1.43-.59-.52 0-1.04.2-1.43.59L10.3 9.45l-7.72 7.72c-.78.78-.78 2.05 0 2.83L4 21.41c.39.39.9.59 1.41.59.51 0 1.02-.2 1.41-.59l7.78-7.78 2.81-2.81c.8-.78.8-2.07 0-2.86zM5.41 20L4 18.59l7.72-7.72 1.47 1.35L5.41 20z\"/>\n",
              "  </svg>\n",
              "      </button>\n",
              "      \n",
              "  <style>\n",
              "    .colab-df-container {\n",
              "      display:flex;\n",
              "      flex-wrap:wrap;\n",
              "      gap: 12px;\n",
              "    }\n",
              "\n",
              "    .colab-df-convert {\n",
              "      background-color: #E8F0FE;\n",
              "      border: none;\n",
              "      border-radius: 50%;\n",
              "      cursor: pointer;\n",
              "      display: none;\n",
              "      fill: #1967D2;\n",
              "      height: 32px;\n",
              "      padding: 0 0 0 0;\n",
              "      width: 32px;\n",
              "    }\n",
              "\n",
              "    .colab-df-convert:hover {\n",
              "      background-color: #E2EBFA;\n",
              "      box-shadow: 0px 1px 2px rgba(60, 64, 67, 0.3), 0px 1px 3px 1px rgba(60, 64, 67, 0.15);\n",
              "      fill: #174EA6;\n",
              "    }\n",
              "\n",
              "    [theme=dark] .colab-df-convert {\n",
              "      background-color: #3B4455;\n",
              "      fill: #D2E3FC;\n",
              "    }\n",
              "\n",
              "    [theme=dark] .colab-df-convert:hover {\n",
              "      background-color: #434B5C;\n",
              "      box-shadow: 0px 1px 3px 1px rgba(0, 0, 0, 0.15);\n",
              "      filter: drop-shadow(0px 1px 2px rgba(0, 0, 0, 0.3));\n",
              "      fill: #FFFFFF;\n",
              "    }\n",
              "  </style>\n",
              "\n",
              "      <script>\n",
              "        const buttonEl =\n",
              "          document.querySelector('#df-66285ed1-b442-4907-8ab6-0199b5fcf75c button.colab-df-convert');\n",
              "        buttonEl.style.display =\n",
              "          google.colab.kernel.accessAllowed ? 'block' : 'none';\n",
              "\n",
              "        async function convertToInteractive(key) {\n",
              "          const element = document.querySelector('#df-66285ed1-b442-4907-8ab6-0199b5fcf75c');\n",
              "          const dataTable =\n",
              "            await google.colab.kernel.invokeFunction('convertToInteractive',\n",
              "                                                     [key], {});\n",
              "          if (!dataTable) return;\n",
              "\n",
              "          const docLinkHtml = 'Like what you see? Visit the ' +\n",
              "            '<a target=\"_blank\" href=https://colab.research.google.com/notebooks/data_table.ipynb>data table notebook</a>'\n",
              "            + ' to learn more about interactive tables.';\n",
              "          element.innerHTML = '';\n",
              "          dataTable['output_type'] = 'display_data';\n",
              "          await google.colab.output.renderOutput(dataTable, element);\n",
              "          const docLink = document.createElement('div');\n",
              "          docLink.innerHTML = docLinkHtml;\n",
              "          element.appendChild(docLink);\n",
              "        }\n",
              "      </script>\n",
              "    </div>\n",
              "  </div>\n",
              "  "
            ]
          },
          "metadata": {},
          "execution_count": 22
        }
      ]
    },
    {
      "cell_type": "code",
      "source": [
        "# checking the size of the total_trips dataframe\n",
        "\n",
        "len(total_trips)"
      ],
      "metadata": {
        "colab": {
          "base_uri": "https://localhost:8080/"
        },
        "id": "JjgtDGI6gQqO",
        "outputId": "4cb2626a-eefd-465b-afc6-36ac7fc0e80a"
      },
      "execution_count": null,
      "outputs": [
        {
          "output_type": "execute_result",
          "data": {
            "text/plain": [
              "2949290"
            ]
          },
          "metadata": {},
          "execution_count": 23
        }
      ]
    },
    {
      "cell_type": "code",
      "source": [
        "total_trips.isnull().sum()"
      ],
      "metadata": {
        "colab": {
          "base_uri": "https://localhost:8080/"
        },
        "id": "nR-sby-9gQer",
        "outputId": "978531a8-99a4-4006-d7f1-683adeb7e433"
      },
      "execution_count": null,
      "outputs": [
        {
          "output_type": "execute_result",
          "data": {
            "text/plain": [
              "Rental_ID                  0\n",
              "Start_time                 0\n",
              "End_time                   0\n",
              "Bike_ID                    0\n",
              "Duration(secs)             0\n",
              "Start_station_ID           0\n",
              "Start_station_name         0\n",
              "End_station_ID             0\n",
              "End_station_name           0\n",
              "User_type                  0\n",
              "Gender                509722\n",
              "DOB                   504657\n",
              "dtype: int64"
            ]
          },
          "metadata": {},
          "execution_count": 24
        }
      ]
    },
    {
      "cell_type": "markdown",
      "source": [
        "There are presence of infinite values in the dataset, INF is the result of a numerical calculation that is mathematically infinite, such as:\n",
        "1/0 → INF.\n",
        "the infinite values are first converted to 'nan' the removed using df.dropna()\n"
      ],
      "metadata": {
        "id": "w_FXgDyfewlA"
      }
    },
    {
      "cell_type": "code",
      "source": [
        "total_trips.replace([np.inf, -np.inf], np.nan, inplace=True)"
      ],
      "metadata": {
        "id": "ZtL9gefRgQQ4"
      },
      "execution_count": null,
      "outputs": []
    },
    {
      "cell_type": "code",
      "source": [
        "# Removing nulls in the dataset\n",
        "\n",
        "total_trips = total_trips.dropna()"
      ],
      "metadata": {
        "id": "Pi3q4Qo_gP1y"
      },
      "execution_count": null,
      "outputs": []
    },
    {
      "cell_type": "code",
      "source": [
        "# checking the size of the new total_trips dataframe\n",
        "\n",
        "len(total_trips)"
      ],
      "metadata": {
        "colab": {
          "base_uri": "https://localhost:8080/"
        },
        "id": "Dyh6DpP-gPnx",
        "outputId": "19f1a6d3-376d-45c7-8a77-d6a7a5ad693d"
      },
      "execution_count": null,
      "outputs": [
        {
          "output_type": "execute_result",
          "data": {
            "text/plain": [
              "2439509"
            ]
          },
          "metadata": {},
          "execution_count": 27
        }
      ]
    },
    {
      "cell_type": "code",
      "source": [
        "total_trips.describe()"
      ],
      "metadata": {
        "colab": {
          "base_uri": "https://localhost:8080/",
          "height": 296
        },
        "id": "aB18UvzhgPeO",
        "outputId": "f8ecd29d-96fc-4c1a-8c5c-2e649e28e057"
      },
      "execution_count": null,
      "outputs": [
        {
          "output_type": "execute_result",
          "data": {
            "text/plain": [
              "          Rental_ID       Bike_ID  Start_station_ID  End_station_ID  \\\n",
              "count  2.439509e+06  2.439509e+06      2.439509e+06    2.439509e+06   \n",
              "mean   1.924392e+07  3.512839e+03      1.909457e+02    1.917154e+02   \n",
              "std    1.018043e+06  1.946783e+03      1.373625e+02    1.370926e+02   \n",
              "min    1.753670e+07  1.000000e+00      2.000000e+00    2.000000e+00   \n",
              "25%    1.834171e+07  1.794000e+03      7.700000e+01    7.700000e+01   \n",
              "50%    1.923004e+07  3.632000e+03      1.720000e+02    1.730000e+02   \n",
              "75%    2.014355e+07  5.273000e+03      2.840000e+02    2.860000e+02   \n",
              "max    2.098353e+07  6.471000e+03      6.590000e+02    6.590000e+02   \n",
              "\n",
              "                DOB  \n",
              "count  2.439509e+06  \n",
              "mean   1.982754e+03  \n",
              "std    1.087662e+01  \n",
              "min    1.895000e+03  \n",
              "25%    1.977000e+03  \n",
              "50%    1.986000e+03  \n",
              "75%    1.991000e+03  \n",
              "max    2.005000e+03  "
            ],
            "text/html": [
              "\n",
              "  <div id=\"df-3044ba71-8f6a-4d4d-8d2e-57d4644b9e80\">\n",
              "    <div class=\"colab-df-container\">\n",
              "      <div>\n",
              "<style scoped>\n",
              "    .dataframe tbody tr th:only-of-type {\n",
              "        vertical-align: middle;\n",
              "    }\n",
              "\n",
              "    .dataframe tbody tr th {\n",
              "        vertical-align: top;\n",
              "    }\n",
              "\n",
              "    .dataframe thead th {\n",
              "        text-align: right;\n",
              "    }\n",
              "</style>\n",
              "<table border=\"1\" class=\"dataframe\">\n",
              "  <thead>\n",
              "    <tr style=\"text-align: right;\">\n",
              "      <th></th>\n",
              "      <th>Rental_ID</th>\n",
              "      <th>Bike_ID</th>\n",
              "      <th>Start_station_ID</th>\n",
              "      <th>End_station_ID</th>\n",
              "      <th>DOB</th>\n",
              "    </tr>\n",
              "  </thead>\n",
              "  <tbody>\n",
              "    <tr>\n",
              "      <th>count</th>\n",
              "      <td>2.439509e+06</td>\n",
              "      <td>2.439509e+06</td>\n",
              "      <td>2.439509e+06</td>\n",
              "      <td>2.439509e+06</td>\n",
              "      <td>2.439509e+06</td>\n",
              "    </tr>\n",
              "    <tr>\n",
              "      <th>mean</th>\n",
              "      <td>1.924392e+07</td>\n",
              "      <td>3.512839e+03</td>\n",
              "      <td>1.909457e+02</td>\n",
              "      <td>1.917154e+02</td>\n",
              "      <td>1.982754e+03</td>\n",
              "    </tr>\n",
              "    <tr>\n",
              "      <th>std</th>\n",
              "      <td>1.018043e+06</td>\n",
              "      <td>1.946783e+03</td>\n",
              "      <td>1.373625e+02</td>\n",
              "      <td>1.370926e+02</td>\n",
              "      <td>1.087662e+01</td>\n",
              "    </tr>\n",
              "    <tr>\n",
              "      <th>min</th>\n",
              "      <td>1.753670e+07</td>\n",
              "      <td>1.000000e+00</td>\n",
              "      <td>2.000000e+00</td>\n",
              "      <td>2.000000e+00</td>\n",
              "      <td>1.895000e+03</td>\n",
              "    </tr>\n",
              "    <tr>\n",
              "      <th>25%</th>\n",
              "      <td>1.834171e+07</td>\n",
              "      <td>1.794000e+03</td>\n",
              "      <td>7.700000e+01</td>\n",
              "      <td>7.700000e+01</td>\n",
              "      <td>1.977000e+03</td>\n",
              "    </tr>\n",
              "    <tr>\n",
              "      <th>50%</th>\n",
              "      <td>1.923004e+07</td>\n",
              "      <td>3.632000e+03</td>\n",
              "      <td>1.720000e+02</td>\n",
              "      <td>1.730000e+02</td>\n",
              "      <td>1.986000e+03</td>\n",
              "    </tr>\n",
              "    <tr>\n",
              "      <th>75%</th>\n",
              "      <td>2.014355e+07</td>\n",
              "      <td>5.273000e+03</td>\n",
              "      <td>2.840000e+02</td>\n",
              "      <td>2.860000e+02</td>\n",
              "      <td>1.991000e+03</td>\n",
              "    </tr>\n",
              "    <tr>\n",
              "      <th>max</th>\n",
              "      <td>2.098353e+07</td>\n",
              "      <td>6.471000e+03</td>\n",
              "      <td>6.590000e+02</td>\n",
              "      <td>6.590000e+02</td>\n",
              "      <td>2.005000e+03</td>\n",
              "    </tr>\n",
              "  </tbody>\n",
              "</table>\n",
              "</div>\n",
              "      <button class=\"colab-df-convert\" onclick=\"convertToInteractive('df-3044ba71-8f6a-4d4d-8d2e-57d4644b9e80')\"\n",
              "              title=\"Convert this dataframe to an interactive table.\"\n",
              "              style=\"display:none;\">\n",
              "        \n",
              "  <svg xmlns=\"http://www.w3.org/2000/svg\" height=\"24px\"viewBox=\"0 0 24 24\"\n",
              "       width=\"24px\">\n",
              "    <path d=\"M0 0h24v24H0V0z\" fill=\"none\"/>\n",
              "    <path d=\"M18.56 5.44l.94 2.06.94-2.06 2.06-.94-2.06-.94-.94-2.06-.94 2.06-2.06.94zm-11 1L8.5 8.5l.94-2.06 2.06-.94-2.06-.94L8.5 2.5l-.94 2.06-2.06.94zm10 10l.94 2.06.94-2.06 2.06-.94-2.06-.94-.94-2.06-.94 2.06-2.06.94z\"/><path d=\"M17.41 7.96l-1.37-1.37c-.4-.4-.92-.59-1.43-.59-.52 0-1.04.2-1.43.59L10.3 9.45l-7.72 7.72c-.78.78-.78 2.05 0 2.83L4 21.41c.39.39.9.59 1.41.59.51 0 1.02-.2 1.41-.59l7.78-7.78 2.81-2.81c.8-.78.8-2.07 0-2.86zM5.41 20L4 18.59l7.72-7.72 1.47 1.35L5.41 20z\"/>\n",
              "  </svg>\n",
              "      </button>\n",
              "      \n",
              "  <style>\n",
              "    .colab-df-container {\n",
              "      display:flex;\n",
              "      flex-wrap:wrap;\n",
              "      gap: 12px;\n",
              "    }\n",
              "\n",
              "    .colab-df-convert {\n",
              "      background-color: #E8F0FE;\n",
              "      border: none;\n",
              "      border-radius: 50%;\n",
              "      cursor: pointer;\n",
              "      display: none;\n",
              "      fill: #1967D2;\n",
              "      height: 32px;\n",
              "      padding: 0 0 0 0;\n",
              "      width: 32px;\n",
              "    }\n",
              "\n",
              "    .colab-df-convert:hover {\n",
              "      background-color: #E2EBFA;\n",
              "      box-shadow: 0px 1px 2px rgba(60, 64, 67, 0.3), 0px 1px 3px 1px rgba(60, 64, 67, 0.15);\n",
              "      fill: #174EA6;\n",
              "    }\n",
              "\n",
              "    [theme=dark] .colab-df-convert {\n",
              "      background-color: #3B4455;\n",
              "      fill: #D2E3FC;\n",
              "    }\n",
              "\n",
              "    [theme=dark] .colab-df-convert:hover {\n",
              "      background-color: #434B5C;\n",
              "      box-shadow: 0px 1px 3px 1px rgba(0, 0, 0, 0.15);\n",
              "      filter: drop-shadow(0px 1px 2px rgba(0, 0, 0, 0.3));\n",
              "      fill: #FFFFFF;\n",
              "    }\n",
              "  </style>\n",
              "\n",
              "      <script>\n",
              "        const buttonEl =\n",
              "          document.querySelector('#df-3044ba71-8f6a-4d4d-8d2e-57d4644b9e80 button.colab-df-convert');\n",
              "        buttonEl.style.display =\n",
              "          google.colab.kernel.accessAllowed ? 'block' : 'none';\n",
              "\n",
              "        async function convertToInteractive(key) {\n",
              "          const element = document.querySelector('#df-3044ba71-8f6a-4d4d-8d2e-57d4644b9e80');\n",
              "          const dataTable =\n",
              "            await google.colab.kernel.invokeFunction('convertToInteractive',\n",
              "                                                     [key], {});\n",
              "          if (!dataTable) return;\n",
              "\n",
              "          const docLinkHtml = 'Like what you see? Visit the ' +\n",
              "            '<a target=\"_blank\" href=https://colab.research.google.com/notebooks/data_table.ipynb>data table notebook</a>'\n",
              "            + ' to learn more about interactive tables.';\n",
              "          element.innerHTML = '';\n",
              "          dataTable['output_type'] = 'display_data';\n",
              "          await google.colab.output.renderOutput(dataTable, element);\n",
              "          const docLink = document.createElement('div');\n",
              "          docLink.innerHTML = docLinkHtml;\n",
              "          element.appendChild(docLink);\n",
              "        }\n",
              "      </script>\n",
              "    </div>\n",
              "  </div>\n",
              "  "
            ]
          },
          "metadata": {},
          "execution_count": 28
        }
      ]
    },
    {
      "cell_type": "code",
      "source": [
        "# viewing the data\n",
        "\n",
        "total_trips.info()"
      ],
      "metadata": {
        "colab": {
          "base_uri": "https://localhost:8080/"
        },
        "id": "YIDt-HgRgPTM",
        "outputId": "5aaeda95-4653-4635-e0c7-ec119306e6c6"
      },
      "execution_count": null,
      "outputs": [
        {
          "output_type": "stream",
          "name": "stdout",
          "text": [
            "<class 'pandas.core.frame.DataFrame'>\n",
            "Int64Index: 2439509 entries, 0 to 2949289\n",
            "Data columns (total 12 columns):\n",
            " #   Column              Dtype  \n",
            "---  ------              -----  \n",
            " 0   Rental_ID           int64  \n",
            " 1   Start_time          object \n",
            " 2   End_time            object \n",
            " 3   Bike_ID             int64  \n",
            " 4   Duration(secs)      object \n",
            " 5   Start_station_ID    int64  \n",
            " 6   Start_station_name  object \n",
            " 7   End_station_ID      int64  \n",
            " 8   End_station_name    object \n",
            " 9   User_type           object \n",
            " 10  Gender              object \n",
            " 11  DOB                 float64\n",
            "dtypes: float64(1), int64(4), object(7)\n",
            "memory usage: 242.0+ MB\n"
          ]
        }
      ]
    },
    {
      "cell_type": "code",
      "source": [
        "# converting the 'Duration(secs)' column into timedelta\n",
        "\n",
        "total_trips['Duration(secs)']= total_trips['Duration(secs)'].astype('timedelta64[s]')"
      ],
      "metadata": {
        "id": "FcMwd3LfkI6I"
      },
      "execution_count": null,
      "outputs": []
    },
    {
      "cell_type": "code",
      "source": [
        "# Formatting started_at and ended_at columns in order to count trip_duration\n",
        "\n",
        "total_trips['Start_time']=pd.to_datetime(total_trips['Start_time'])\n",
        "total_trips['End_time']=pd.to_datetime(total_trips['End_time'])"
      ],
      "metadata": {
        "id": "I0VR_nGlkIuy"
      },
      "execution_count": null,
      "outputs": []
    },
    {
      "cell_type": "code",
      "source": [
        "# Extracting year, month, day and day_of_week variables from started_at column\n",
        "\n",
        "total_trips[\"year\"]= total_trips[\"Start_time\"].dt.year\n",
        "total_trips[\"month\"]= total_trips[\"Start_time\"].dt.month\n",
        "total_trips[\"day\"]= total_trips[\"Start_time\"].dt.day\n",
        "total_trips[\"day_of_week\"]= total_trips[\"Start_time\"].dt.day_name()"
      ],
      "metadata": {
        "id": "AWz6h_EAkIki"
      },
      "execution_count": null,
      "outputs": []
    },
    {
      "cell_type": "code",
      "source": [
        "# converting DOB column to datetime and extracting 'year' from the date\n",
        "\n",
        "total_trips['DOB'] = pd.to_datetime(total_trips.DOB, format = '%Y')\n",
        "total_trips[\"DOB\"]=total_trips[\"DOB\"].dt.year"
      ],
      "metadata": {
        "id": "Pt4pSDX0kIat"
      },
      "execution_count": null,
      "outputs": []
    },
    {
      "cell_type": "code",
      "source": [
        "total_trips.head()"
      ],
      "metadata": {
        "colab": {
          "base_uri": "https://localhost:8080/",
          "height": 444
        },
        "id": "RjFL7IuwkIOv",
        "outputId": "c54e9bb2-268d-46ed-8cb0-a013dafcc047"
      },
      "execution_count": null,
      "outputs": [
        {
          "output_type": "execute_result",
          "data": {
            "text/plain": [
              "   Rental_ID          Start_time            End_time  Bike_ID  Duration(secs)  \\\n",
              "0   17536702 2018-01-01 00:12:00 2018-01-01 00:17:23     3304 0 days 00:05:23   \n",
              "1   17536703 2018-01-01 00:41:35 2018-01-01 00:47:52     5367 0 days 00:06:17   \n",
              "2   17536704 2018-01-01 00:44:46 2018-01-01 01:33:10     4599 0 days 00:48:24   \n",
              "3   17536705 2018-01-01 00:53:10 2018-01-01 01:05:37     2302 0 days 00:12:27   \n",
              "4   17536706 2018-01-01 00:53:37 2018-01-01 00:56:40     3696 0 days 00:03:03   \n",
              "\n",
              "   Start_station_ID           Start_station_name  End_station_ID  \\\n",
              "0                69       Damen Ave & Pierce Ave             159   \n",
              "1               253  Winthrop Ave & Lawrence Ave             325   \n",
              "2                98   LaSalle St & Washington St             509   \n",
              "3               125         Rush St & Hubbard St             364   \n",
              "4               129    Blue Island Ave & 18th St             205   \n",
              "\n",
              "                 End_station_name   User_type Gender   DOB  year  month  day  \\\n",
              "0       Claremont Ave & Hirsch St  Subscriber   Male  1988  2018      1    1   \n",
              "1  Clark St & Winnemac Ave (Temp)  Subscriber   Male  1984  2018      1    1   \n",
              "2             Troy St & North Ave  Subscriber   Male  1989  2018      1    1   \n",
              "3            Larrabee St & Oak St  Subscriber   Male  1983  2018      1    1   \n",
              "4            Paulina St & 18th St  Subscriber   Male  1989  2018      1    1   \n",
              "\n",
              "  day_of_week  \n",
              "0      Monday  \n",
              "1      Monday  \n",
              "2      Monday  \n",
              "3      Monday  \n",
              "4      Monday  "
            ],
            "text/html": [
              "\n",
              "  <div id=\"df-519e7d46-3601-4202-91d9-52859d05a720\">\n",
              "    <div class=\"colab-df-container\">\n",
              "      <div>\n",
              "<style scoped>\n",
              "    .dataframe tbody tr th:only-of-type {\n",
              "        vertical-align: middle;\n",
              "    }\n",
              "\n",
              "    .dataframe tbody tr th {\n",
              "        vertical-align: top;\n",
              "    }\n",
              "\n",
              "    .dataframe thead th {\n",
              "        text-align: right;\n",
              "    }\n",
              "</style>\n",
              "<table border=\"1\" class=\"dataframe\">\n",
              "  <thead>\n",
              "    <tr style=\"text-align: right;\">\n",
              "      <th></th>\n",
              "      <th>Rental_ID</th>\n",
              "      <th>Start_time</th>\n",
              "      <th>End_time</th>\n",
              "      <th>Bike_ID</th>\n",
              "      <th>Duration(secs)</th>\n",
              "      <th>Start_station_ID</th>\n",
              "      <th>Start_station_name</th>\n",
              "      <th>End_station_ID</th>\n",
              "      <th>End_station_name</th>\n",
              "      <th>User_type</th>\n",
              "      <th>Gender</th>\n",
              "      <th>DOB</th>\n",
              "      <th>year</th>\n",
              "      <th>month</th>\n",
              "      <th>day</th>\n",
              "      <th>day_of_week</th>\n",
              "    </tr>\n",
              "  </thead>\n",
              "  <tbody>\n",
              "    <tr>\n",
              "      <th>0</th>\n",
              "      <td>17536702</td>\n",
              "      <td>2018-01-01 00:12:00</td>\n",
              "      <td>2018-01-01 00:17:23</td>\n",
              "      <td>3304</td>\n",
              "      <td>0 days 00:05:23</td>\n",
              "      <td>69</td>\n",
              "      <td>Damen Ave &amp; Pierce Ave</td>\n",
              "      <td>159</td>\n",
              "      <td>Claremont Ave &amp; Hirsch St</td>\n",
              "      <td>Subscriber</td>\n",
              "      <td>Male</td>\n",
              "      <td>1988</td>\n",
              "      <td>2018</td>\n",
              "      <td>1</td>\n",
              "      <td>1</td>\n",
              "      <td>Monday</td>\n",
              "    </tr>\n",
              "    <tr>\n",
              "      <th>1</th>\n",
              "      <td>17536703</td>\n",
              "      <td>2018-01-01 00:41:35</td>\n",
              "      <td>2018-01-01 00:47:52</td>\n",
              "      <td>5367</td>\n",
              "      <td>0 days 00:06:17</td>\n",
              "      <td>253</td>\n",
              "      <td>Winthrop Ave &amp; Lawrence Ave</td>\n",
              "      <td>325</td>\n",
              "      <td>Clark St &amp; Winnemac Ave (Temp)</td>\n",
              "      <td>Subscriber</td>\n",
              "      <td>Male</td>\n",
              "      <td>1984</td>\n",
              "      <td>2018</td>\n",
              "      <td>1</td>\n",
              "      <td>1</td>\n",
              "      <td>Monday</td>\n",
              "    </tr>\n",
              "    <tr>\n",
              "      <th>2</th>\n",
              "      <td>17536704</td>\n",
              "      <td>2018-01-01 00:44:46</td>\n",
              "      <td>2018-01-01 01:33:10</td>\n",
              "      <td>4599</td>\n",
              "      <td>0 days 00:48:24</td>\n",
              "      <td>98</td>\n",
              "      <td>LaSalle St &amp; Washington St</td>\n",
              "      <td>509</td>\n",
              "      <td>Troy St &amp; North Ave</td>\n",
              "      <td>Subscriber</td>\n",
              "      <td>Male</td>\n",
              "      <td>1989</td>\n",
              "      <td>2018</td>\n",
              "      <td>1</td>\n",
              "      <td>1</td>\n",
              "      <td>Monday</td>\n",
              "    </tr>\n",
              "    <tr>\n",
              "      <th>3</th>\n",
              "      <td>17536705</td>\n",
              "      <td>2018-01-01 00:53:10</td>\n",
              "      <td>2018-01-01 01:05:37</td>\n",
              "      <td>2302</td>\n",
              "      <td>0 days 00:12:27</td>\n",
              "      <td>125</td>\n",
              "      <td>Rush St &amp; Hubbard St</td>\n",
              "      <td>364</td>\n",
              "      <td>Larrabee St &amp; Oak St</td>\n",
              "      <td>Subscriber</td>\n",
              "      <td>Male</td>\n",
              "      <td>1983</td>\n",
              "      <td>2018</td>\n",
              "      <td>1</td>\n",
              "      <td>1</td>\n",
              "      <td>Monday</td>\n",
              "    </tr>\n",
              "    <tr>\n",
              "      <th>4</th>\n",
              "      <td>17536706</td>\n",
              "      <td>2018-01-01 00:53:37</td>\n",
              "      <td>2018-01-01 00:56:40</td>\n",
              "      <td>3696</td>\n",
              "      <td>0 days 00:03:03</td>\n",
              "      <td>129</td>\n",
              "      <td>Blue Island Ave &amp; 18th St</td>\n",
              "      <td>205</td>\n",
              "      <td>Paulina St &amp; 18th St</td>\n",
              "      <td>Subscriber</td>\n",
              "      <td>Male</td>\n",
              "      <td>1989</td>\n",
              "      <td>2018</td>\n",
              "      <td>1</td>\n",
              "      <td>1</td>\n",
              "      <td>Monday</td>\n",
              "    </tr>\n",
              "  </tbody>\n",
              "</table>\n",
              "</div>\n",
              "      <button class=\"colab-df-convert\" onclick=\"convertToInteractive('df-519e7d46-3601-4202-91d9-52859d05a720')\"\n",
              "              title=\"Convert this dataframe to an interactive table.\"\n",
              "              style=\"display:none;\">\n",
              "        \n",
              "  <svg xmlns=\"http://www.w3.org/2000/svg\" height=\"24px\"viewBox=\"0 0 24 24\"\n",
              "       width=\"24px\">\n",
              "    <path d=\"M0 0h24v24H0V0z\" fill=\"none\"/>\n",
              "    <path d=\"M18.56 5.44l.94 2.06.94-2.06 2.06-.94-2.06-.94-.94-2.06-.94 2.06-2.06.94zm-11 1L8.5 8.5l.94-2.06 2.06-.94-2.06-.94L8.5 2.5l-.94 2.06-2.06.94zm10 10l.94 2.06.94-2.06 2.06-.94-2.06-.94-.94-2.06-.94 2.06-2.06.94z\"/><path d=\"M17.41 7.96l-1.37-1.37c-.4-.4-.92-.59-1.43-.59-.52 0-1.04.2-1.43.59L10.3 9.45l-7.72 7.72c-.78.78-.78 2.05 0 2.83L4 21.41c.39.39.9.59 1.41.59.51 0 1.02-.2 1.41-.59l7.78-7.78 2.81-2.81c.8-.78.8-2.07 0-2.86zM5.41 20L4 18.59l7.72-7.72 1.47 1.35L5.41 20z\"/>\n",
              "  </svg>\n",
              "      </button>\n",
              "      \n",
              "  <style>\n",
              "    .colab-df-container {\n",
              "      display:flex;\n",
              "      flex-wrap:wrap;\n",
              "      gap: 12px;\n",
              "    }\n",
              "\n",
              "    .colab-df-convert {\n",
              "      background-color: #E8F0FE;\n",
              "      border: none;\n",
              "      border-radius: 50%;\n",
              "      cursor: pointer;\n",
              "      display: none;\n",
              "      fill: #1967D2;\n",
              "      height: 32px;\n",
              "      padding: 0 0 0 0;\n",
              "      width: 32px;\n",
              "    }\n",
              "\n",
              "    .colab-df-convert:hover {\n",
              "      background-color: #E2EBFA;\n",
              "      box-shadow: 0px 1px 2px rgba(60, 64, 67, 0.3), 0px 1px 3px 1px rgba(60, 64, 67, 0.15);\n",
              "      fill: #174EA6;\n",
              "    }\n",
              "\n",
              "    [theme=dark] .colab-df-convert {\n",
              "      background-color: #3B4455;\n",
              "      fill: #D2E3FC;\n",
              "    }\n",
              "\n",
              "    [theme=dark] .colab-df-convert:hover {\n",
              "      background-color: #434B5C;\n",
              "      box-shadow: 0px 1px 3px 1px rgba(0, 0, 0, 0.15);\n",
              "      filter: drop-shadow(0px 1px 2px rgba(0, 0, 0, 0.3));\n",
              "      fill: #FFFFFF;\n",
              "    }\n",
              "  </style>\n",
              "\n",
              "      <script>\n",
              "        const buttonEl =\n",
              "          document.querySelector('#df-519e7d46-3601-4202-91d9-52859d05a720 button.colab-df-convert');\n",
              "        buttonEl.style.display =\n",
              "          google.colab.kernel.accessAllowed ? 'block' : 'none';\n",
              "\n",
              "        async function convertToInteractive(key) {\n",
              "          const element = document.querySelector('#df-519e7d46-3601-4202-91d9-52859d05a720');\n",
              "          const dataTable =\n",
              "            await google.colab.kernel.invokeFunction('convertToInteractive',\n",
              "                                                     [key], {});\n",
              "          if (!dataTable) return;\n",
              "\n",
              "          const docLinkHtml = 'Like what you see? Visit the ' +\n",
              "            '<a target=\"_blank\" href=https://colab.research.google.com/notebooks/data_table.ipynb>data table notebook</a>'\n",
              "            + ' to learn more about interactive tables.';\n",
              "          element.innerHTML = '';\n",
              "          dataTable['output_type'] = 'display_data';\n",
              "          await google.colab.output.renderOutput(dataTable, element);\n",
              "          const docLink = document.createElement('div');\n",
              "          docLink.innerHTML = docLinkHtml;\n",
              "          element.appendChild(docLink);\n",
              "        }\n",
              "      </script>\n",
              "    </div>\n",
              "  </div>\n",
              "  "
            ]
          },
          "metadata": {},
          "execution_count": 43
        }
      ]
    },
    {
      "cell_type": "code",
      "source": [
        "# saving the new dataset\n",
        "\n",
        "total_trips.to_csv('cyclistic_data.csv')"
      ],
      "metadata": {
        "id": "tp-u2rPmkH-H"
      },
      "execution_count": null,
      "outputs": []
    },
    {
      "cell_type": "code",
      "source": [
        ""
      ],
      "metadata": {
        "id": "zEeAY-c1kHx6"
      },
      "execution_count": null,
      "outputs": []
    },
    {
      "cell_type": "code",
      "source": [
        ""
      ],
      "metadata": {
        "id": "WmFXl4zNgPEP"
      },
      "execution_count": null,
      "outputs": []
    },
    {
      "cell_type": "code",
      "source": [
        ""
      ],
      "metadata": {
        "id": "u9urshxVgOqi"
      },
      "execution_count": null,
      "outputs": []
    },
    {
      "cell_type": "code",
      "source": [
        ""
      ],
      "metadata": {
        "id": "QVe4mOhtfd03"
      },
      "execution_count": null,
      "outputs": []
    },
    {
      "cell_type": "code",
      "source": [
        ""
      ],
      "metadata": {
        "id": "ADYOfToIbyzs"
      },
      "execution_count": null,
      "outputs": []
    },
    {
      "cell_type": "code",
      "source": [
        ""
      ],
      "metadata": {
        "id": "0dOEWFSFW1ZO"
      },
      "execution_count": null,
      "outputs": []
    },
    {
      "cell_type": "code",
      "source": [
        ""
      ],
      "metadata": {
        "id": "aeerZEaCW0cB"
      },
      "execution_count": null,
      "outputs": []
    },
    {
      "cell_type": "code",
      "source": [
        ""
      ],
      "metadata": {
        "id": "ML_SGf0eW4WN"
      },
      "execution_count": null,
      "outputs": []
    },
    {
      "cell_type": "code",
      "source": [
        ""
      ],
      "metadata": {
        "id": "uvwpvYRhW4Bc"
      },
      "execution_count": null,
      "outputs": []
    },
    {
      "cell_type": "code",
      "source": [
        ""
      ],
      "metadata": {
        "id": "DeyFAaYDW314"
      },
      "execution_count": null,
      "outputs": []
    },
    {
      "cell_type": "code",
      "source": [
        ""
      ],
      "metadata": {
        "id": "ZpFNiahGW3oR"
      },
      "execution_count": null,
      "outputs": []
    },
    {
      "cell_type": "code",
      "source": [
        ""
      ],
      "metadata": {
        "id": "6B4r_fgoW3aI"
      },
      "execution_count": null,
      "outputs": []
    },
    {
      "cell_type": "code",
      "source": [
        ""
      ],
      "metadata": {
        "id": "gqEA0FvzW3K3"
      },
      "execution_count": null,
      "outputs": []
    },
    {
      "cell_type": "code",
      "source": [
        "b"
      ],
      "metadata": {
        "id": "XKvrN7J9W2st"
      },
      "execution_count": null,
      "outputs": []
    },
    {
      "cell_type": "code",
      "source": [
        ""
      ],
      "metadata": {
        "id": "_kmPw2buW1_n"
      },
      "execution_count": null,
      "outputs": []
    }
  ]
}